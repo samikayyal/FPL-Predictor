{
 "cells": [
  {
   "cell_type": "code",
   "execution_count": 8,
   "id": "0c89c471",
   "metadata": {},
   "outputs": [],
   "source": [
    "import pandas as pd\n",
    "\n",
    "from utils.general import get_data_path\n",
    "from utils.get_ids import get_player_name\n",
    "from utils.constants import SEASON"
   ]
  },
  {
   "cell_type": "code",
   "execution_count": null,
   "id": "168e4980",
   "metadata": {},
   "outputs": [],
   "source": []
  }
 ],
 "metadata": {
  "kernelspec": {
   "display_name": ".venv",
   "language": "python",
   "name": "python3"
  },
  "language_info": {
   "codemirror_mode": {
    "name": "ipython",
    "version": 3
   },
   "file_extension": ".py",
   "mimetype": "text/x-python",
   "name": "python",
   "nbconvert_exporter": "python",
   "pygments_lexer": "ipython3",
   "version": "3.12.10"
  }
 },
 "nbformat": 4,
 "nbformat_minor": 5
}
