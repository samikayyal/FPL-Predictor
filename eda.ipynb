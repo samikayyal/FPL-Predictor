{
 "cells": [
  {
   "cell_type": "code",
   "execution_count": 1,
   "id": "0c89c471",
   "metadata": {},
   "outputs": [],
   "source": [
    "import pandas as pd\n",
    "\n",
    "from utils.general import get_data_path\n",
    "from utils.get_ids import get_player_name, get_team_id, fbref_team_name_to_fpl_name\n",
    "from utils.constants import SEASON"
   ]
  },
  {
   "cell_type": "code",
   "execution_count": 13,
   "id": "764fc0ec",
   "metadata": {},
   "outputs": [
    {
     "data": {
      "text/plain": [
       "count    11637.000000\n",
       "mean         2.623013\n",
       "std          2.434659\n",
       "min          1.000000\n",
       "25%          1.000000\n",
       "50%          1.000000\n",
       "75%          4.000000\n",
       "max         10.000000\n",
       "Name: fixture, dtype: float64"
      ]
     },
     "execution_count": 13,
     "metadata": {},
     "output_type": "execute_result"
    }
   ],
   "source": [
    "df = pd.read_csv(get_data_path(SEASON, 'gws/gw1.csv'))\n",
    "df['fixture'].describe()"
   ]
  },
  {
   "cell_type": "code",
   "execution_count": 14,
   "id": "fee5eb91",
   "metadata": {},
   "outputs": [
    {
     "data": {
      "text/plain": [
       "{'element': 1,\n",
       " 'fixture': 2,\n",
       " 'opponent_team': 20,\n",
       " 'total_points': 0,\n",
       " 'was_home': True,\n",
       " 'kickoff_time': '2024-08-17T14:00:00Z',\n",
       " 'team_h_score': 2,\n",
       " 'team_a_score': 0,\n",
       " 'round': 1,\n",
       " 'modified': False,\n",
       " 'minutes': 0,\n",
       " 'goals_scored': 0,\n",
       " 'assists': 0,\n",
       " 'clean_sheets': 0,\n",
       " 'goals_conceded': 0,\n",
       " 'own_goals': 0,\n",
       " 'penalties_saved': 0,\n",
       " 'penalties_missed': 0,\n",
       " 'yellow_cards': 0,\n",
       " 'red_cards': 0,\n",
       " 'saves': 0,\n",
       " 'bonus': 0,\n",
       " 'bps': 0,\n",
       " 'influence': '0.0',\n",
       " 'creativity': '0.0',\n",
       " 'threat': '0.0',\n",
       " 'ict_index': '0.0',\n",
       " 'starts': 0,\n",
       " 'expected_goals': '0.00',\n",
       " 'expected_assists': '0.00',\n",
       " 'expected_goal_involvements': '0.00',\n",
       " 'expected_goals_conceded': '0.00',\n",
       " 'mng_win': 0,\n",
       " 'mng_draw': 0,\n",
       " 'mng_loss': 0,\n",
       " 'mng_underdog_win': 0,\n",
       " 'mng_underdog_draw': 0,\n",
       " 'mng_clean_sheets': 0,\n",
       " 'mng_goals_scored': 0,\n",
       " 'value': 55,\n",
       " 'transfers_balance': 0,\n",
       " 'selected': 2923,\n",
       " 'transfers_in': 0,\n",
       " 'transfers_out': 0}"
      ]
     },
     "execution_count": 14,
     "metadata": {},
     "output_type": "execute_result"
    }
   ],
   "source": [
    "import requests\n",
    "response = requests.get(\"https://fantasy.premierleague.com/api/element-summary/1/\")\n",
    "data = response.json()\n",
    "data['history'][0]"
   ]
  }
 ],
 "metadata": {
  "kernelspec": {
   "display_name": ".venv",
   "language": "python",
   "name": "python3"
  },
  "language_info": {
   "codemirror_mode": {
    "name": "ipython",
    "version": 3
   },
   "file_extension": ".py",
   "mimetype": "text/x-python",
   "name": "python",
   "nbconvert_exporter": "python",
   "pygments_lexer": "ipython3",
   "version": "3.12.10"
  }
 },
 "nbformat": 4,
 "nbformat_minor": 5
}
