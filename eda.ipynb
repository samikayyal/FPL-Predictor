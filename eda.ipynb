{
 "cells": [
  {
   "cell_type": "code",
   "execution_count": 49,
   "id": "25fc9d8f",
   "metadata": {},
   "outputs": [
    {
     "ename": "NoSuchElementException",
     "evalue": "Message: no such element: Unable to locate element: {\"method\":\"xpath\",\"selector\":\"/html/body/div[3]/div[4]/div[10]/div[7]/div[2]\"}\n  (Session info: chrome=135.0.7049.115); For documentation on this error, please visit: https://www.selenium.dev/documentation/webdriver/troubleshooting/errors#no-such-element-exception\nStacktrace:\n\tGetHandleVerifier [0x00007FF7F8E7EFA5+77893]\n\tGetHandleVerifier [0x00007FF7F8E7F000+77984]\n\t(No symbol) [0x00007FF7F8C491BA]\n\t(No symbol) [0x00007FF7F8C9F16D]\n\t(No symbol) [0x00007FF7F8C9F41C]\n\t(No symbol) [0x00007FF7F8CF2237]\n\t(No symbol) [0x00007FF7F8CC716F]\n\t(No symbol) [0x00007FF7F8CEF07F]\n\t(No symbol) [0x00007FF7F8CC6F03]\n\t(No symbol) [0x00007FF7F8C90328]\n\t(No symbol) [0x00007FF7F8C91093]\n\tGetHandleVerifier [0x00007FF7F9137B6D+2931725]\n\tGetHandleVerifier [0x00007FF7F9132132+2908626]\n\tGetHandleVerifier [0x00007FF7F91500F3+3031443]\n\tGetHandleVerifier [0x00007FF7F8E991EA+184970]\n\tGetHandleVerifier [0x00007FF7F8EA086F+215311]\n\tGetHandleVerifier [0x00007FF7F8E86EC4+110436]\n\tGetHandleVerifier [0x00007FF7F8E87072+110866]\n\tGetHandleVerifier [0x00007FF7F8E6D479+5401]\n\tBaseThreadInitThunk [0x00007FFC7A2C26AD+29]\n\tRtlUserThreadStart [0x00007FFC7C2EA9F8+40]\n",
     "output_type": "error",
     "traceback": [
      "\u001b[31m---------------------------------------------------------------------------\u001b[39m",
      "\u001b[31mNoSuchElementException\u001b[39m                    Traceback (most recent call last)",
      "\u001b[36mCell\u001b[39m\u001b[36m \u001b[39m\u001b[32mIn[49]\u001b[39m\u001b[32m, line 23\u001b[39m\n\u001b[32m     20\u001b[39m \u001b[38;5;66;03m# wait for the table to load\u001b[39;00m\n\u001b[32m     21\u001b[39m time.sleep(\u001b[32m5\u001b[39m)\n\u001b[32m---> \u001b[39m\u001b[32m23\u001b[39m filter_switcher = \u001b[43mmatch_report_browser\u001b[49m\u001b[43m.\u001b[49m\u001b[43mfind_element\u001b[49m\u001b[43m(\u001b[49m\u001b[43mBy\u001b[49m\u001b[43m.\u001b[49m\u001b[43mXPATH\u001b[49m\u001b[43m,\u001b[49m\u001b[43m \u001b[49m\u001b[33;43m'\u001b[39;49m\u001b[33;43m/html/body/div[3]/div[4]/div[10]/div[7]/div[2]\u001b[39;49m\u001b[33;43m'\u001b[39;49m\u001b[43m)\u001b[49m\n\u001b[32m     24\u001b[39m \u001b[38;5;66;03m# scroll to the filter switcher\u001b[39;00m\n\u001b[32m     25\u001b[39m match_report_browser.execute_script(\u001b[33m\"\u001b[39m\u001b[33marguments[0].scrollIntoView(true);\u001b[39m\u001b[33m\"\u001b[39m, filter_switcher)\n",
      "\u001b[36mFile \u001b[39m\u001b[32mc:\\Users\\kayya\\Documents\\FPL Predictor\\.venv\\Lib\\site-packages\\selenium\\webdriver\\remote\\webdriver.py:898\u001b[39m, in \u001b[36mWebDriver.find_element\u001b[39m\u001b[34m(self, by, value)\u001b[39m\n\u001b[32m    895\u001b[39m         \u001b[38;5;28;01mraise\u001b[39;00m NoSuchElementException(\u001b[33mf\u001b[39m\u001b[33m\"\u001b[39m\u001b[33mCannot locate relative element with: \u001b[39m\u001b[38;5;132;01m{\u001b[39;00mby.root\u001b[38;5;132;01m}\u001b[39;00m\u001b[33m\"\u001b[39m)\n\u001b[32m    896\u001b[39m     \u001b[38;5;28;01mreturn\u001b[39;00m elements[\u001b[32m0\u001b[39m]\n\u001b[32m--> \u001b[39m\u001b[32m898\u001b[39m \u001b[38;5;28;01mreturn\u001b[39;00m \u001b[38;5;28;43mself\u001b[39;49m\u001b[43m.\u001b[49m\u001b[43mexecute\u001b[49m\u001b[43m(\u001b[49m\u001b[43mCommand\u001b[49m\u001b[43m.\u001b[49m\u001b[43mFIND_ELEMENT\u001b[49m\u001b[43m,\u001b[49m\u001b[43m \u001b[49m\u001b[43m{\u001b[49m\u001b[33;43m\"\u001b[39;49m\u001b[33;43musing\u001b[39;49m\u001b[33;43m\"\u001b[39;49m\u001b[43m:\u001b[49m\u001b[43m \u001b[49m\u001b[43mby\u001b[49m\u001b[43m,\u001b[49m\u001b[43m \u001b[49m\u001b[33;43m\"\u001b[39;49m\u001b[33;43mvalue\u001b[39;49m\u001b[33;43m\"\u001b[39;49m\u001b[43m:\u001b[49m\u001b[43m \u001b[49m\u001b[43mvalue\u001b[49m\u001b[43m}\u001b[49m\u001b[43m)\u001b[49m[\u001b[33m\"\u001b[39m\u001b[33mvalue\u001b[39m\u001b[33m\"\u001b[39m]\n",
      "\u001b[36mFile \u001b[39m\u001b[32mc:\\Users\\kayya\\Documents\\FPL Predictor\\.venv\\Lib\\site-packages\\selenium\\webdriver\\remote\\webdriver.py:429\u001b[39m, in \u001b[36mWebDriver.execute\u001b[39m\u001b[34m(self, driver_command, params)\u001b[39m\n\u001b[32m    427\u001b[39m response = \u001b[38;5;28mself\u001b[39m.command_executor.execute(driver_command, params)\n\u001b[32m    428\u001b[39m \u001b[38;5;28;01mif\u001b[39;00m response:\n\u001b[32m--> \u001b[39m\u001b[32m429\u001b[39m     \u001b[38;5;28;43mself\u001b[39;49m\u001b[43m.\u001b[49m\u001b[43merror_handler\u001b[49m\u001b[43m.\u001b[49m\u001b[43mcheck_response\u001b[49m\u001b[43m(\u001b[49m\u001b[43mresponse\u001b[49m\u001b[43m)\u001b[49m\n\u001b[32m    430\u001b[39m     response[\u001b[33m\"\u001b[39m\u001b[33mvalue\u001b[39m\u001b[33m\"\u001b[39m] = \u001b[38;5;28mself\u001b[39m._unwrap_value(response.get(\u001b[33m\"\u001b[39m\u001b[33mvalue\u001b[39m\u001b[33m\"\u001b[39m, \u001b[38;5;28;01mNone\u001b[39;00m))\n\u001b[32m    431\u001b[39m     \u001b[38;5;28;01mreturn\u001b[39;00m response\n",
      "\u001b[36mFile \u001b[39m\u001b[32mc:\\Users\\kayya\\Documents\\FPL Predictor\\.venv\\Lib\\site-packages\\selenium\\webdriver\\remote\\errorhandler.py:232\u001b[39m, in \u001b[36mErrorHandler.check_response\u001b[39m\u001b[34m(self, response)\u001b[39m\n\u001b[32m    230\u001b[39m         alert_text = value[\u001b[33m\"\u001b[39m\u001b[33malert\u001b[39m\u001b[33m\"\u001b[39m].get(\u001b[33m\"\u001b[39m\u001b[33mtext\u001b[39m\u001b[33m\"\u001b[39m)\n\u001b[32m    231\u001b[39m     \u001b[38;5;28;01mraise\u001b[39;00m exception_class(message, screen, stacktrace, alert_text)  \u001b[38;5;66;03m# type: ignore[call-arg]  # mypy is not smart enough here\u001b[39;00m\n\u001b[32m--> \u001b[39m\u001b[32m232\u001b[39m \u001b[38;5;28;01mraise\u001b[39;00m exception_class(message, screen, stacktrace)\n",
      "\u001b[31mNoSuchElementException\u001b[39m: Message: no such element: Unable to locate element: {\"method\":\"xpath\",\"selector\":\"/html/body/div[3]/div[4]/div[10]/div[7]/div[2]\"}\n  (Session info: chrome=135.0.7049.115); For documentation on this error, please visit: https://www.selenium.dev/documentation/webdriver/troubleshooting/errors#no-such-element-exception\nStacktrace:\n\tGetHandleVerifier [0x00007FF7F8E7EFA5+77893]\n\tGetHandleVerifier [0x00007FF7F8E7F000+77984]\n\t(No symbol) [0x00007FF7F8C491BA]\n\t(No symbol) [0x00007FF7F8C9F16D]\n\t(No symbol) [0x00007FF7F8C9F41C]\n\t(No symbol) [0x00007FF7F8CF2237]\n\t(No symbol) [0x00007FF7F8CC716F]\n\t(No symbol) [0x00007FF7F8CEF07F]\n\t(No symbol) [0x00007FF7F8CC6F03]\n\t(No symbol) [0x00007FF7F8C90328]\n\t(No symbol) [0x00007FF7F8C91093]\n\tGetHandleVerifier [0x00007FF7F9137B6D+2931725]\n\tGetHandleVerifier [0x00007FF7F9132132+2908626]\n\tGetHandleVerifier [0x00007FF7F91500F3+3031443]\n\tGetHandleVerifier [0x00007FF7F8E991EA+184970]\n\tGetHandleVerifier [0x00007FF7F8EA086F+215311]\n\tGetHandleVerifier [0x00007FF7F8E86EC4+110436]\n\tGetHandleVerifier [0x00007FF7F8E87072+110866]\n\tGetHandleVerifier [0x00007FF7F8E6D479+5401]\n\tBaseThreadInitThunk [0x00007FFC7A2C26AD+29]\n\tRtlUserThreadStart [0x00007FFC7C2EA9F8+40]\n"
     ]
    }
   ],
   "source": [
    "import time\n",
    "from selenium import webdriver\n",
    "from selenium.webdriver import ChromeOptions\n",
    "from selenium.webdriver.chrome.service import Service\n",
    "from selenium.webdriver.common.by import By\n",
    "from selenium.webdriver.support.ui import WebDriverWait\n",
    "from selenium.webdriver.support import expected_conditions as EC\n",
    "from bs4 import BeautifulSoup\n",
    "\n",
    "service = Service()\n",
    "options = ChromeOptions()\n",
    "# options.add_argument(\"--headless\")\n",
    "try:\n",
    "    match_report_browser = webdriver.Chrome(\n",
    "        service=service, options=options\n",
    "    )\n",
    "\n",
    "    match_report_browser.get(\"https://fbref.com/en/matches/cc5b4244/Manchester-United-Fulham-August-16-2024-Premier-League\")\n",
    "\n",
    "    # wait for the table to load\n",
    "    time.sleep(5)\n",
    "\n",
    "    filter_switcher = match_report_browser.find_element(By.XPATH, '/html/body/div[3]/div[4]/div[10]/div[7]/div[2]')\n",
    "    # scroll to the filter switcher\n",
    "    match_report_browser.execute_script(\"arguments[0].scrollIntoView(true);\", filter_switcher)\n",
    "    filter_switcher.click()\n",
    "\n",
    "    time.sleep(2)\n",
    "\n",
    "    soup = BeautifulSoup(match_report_browser.page_source, \"lxml\")\n",
    "\n",
    "    table_divs = soup.find_all(\"div\", {\"class\": \"switcher_content\"})[:2]\n",
    "\n",
    "    for table_div in table_divs:\n",
    "        thead = table_div.find(\"thead\")\n",
    "        colnames_header = thead.find_all(\"tr\")[1]\n",
    "        colnames = [\n",
    "            colname.text.strip()\n",
    "            for colname in colnames_header.find_all(\"th\")\n",
    "        ]\n",
    "        print(colnames)\n",
    "\n",
    "finally:\n",
    "    match_report_browser.quit()"
   ]
  },
  {
   "cell_type": "code",
   "execution_count": null,
   "id": "817c8160",
   "metadata": {},
   "outputs": [],
   "source": []
  }
 ],
 "metadata": {
  "kernelspec": {
   "display_name": ".venv",
   "language": "python",
   "name": "python3"
  },
  "language_info": {
   "codemirror_mode": {
    "name": "ipython",
    "version": 3
   },
   "file_extension": ".py",
   "mimetype": "text/x-python",
   "name": "python",
   "nbconvert_exporter": "python",
   "pygments_lexer": "ipython3",
   "version": "3.12.10"
  }
 },
 "nbformat": 4,
 "nbformat_minor": 5
}
